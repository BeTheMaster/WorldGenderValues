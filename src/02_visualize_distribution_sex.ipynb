{
 "cells": [
  {
   "cell_type": "markdown",
   "metadata": {},
   "source": [
    "02 Visualize distribution sex\n",
    "===\n",
    "Visualizes the distribution of respondents to a particular question and country using violine plots. The violine plots are split into Female/Male.\n",
    "(Additionally, an above plotted mean line visualizes the trend of both asked sexes.) \n",
    "\n",
    "1. All countrie, all waves, all questions\n",
    "2. One countrie, all waves, one question (+ mean line plot)"
   ]
  },
  {
   "cell_type": "code",
   "execution_count": null,
   "metadata": {},
   "outputs": [],
   "source": [
    "#TODO: Add loop for all violine plots"
   ]
  },
  {
   "cell_type": "code",
   "execution_count": null,
   "metadata": {},
   "outputs": [],
   "source": [
    "#TODO: write single violine plot with mean line above"
   ]
  }
 ],
 "metadata": {
  "kernelspec": {
   "display_name": "Python 3",
   "language": "python",
   "name": "python3"
  },
  "language_info": {
   "name": "python",
   "version": "3.11.5"
  }
 },
 "nbformat": 4,
 "nbformat_minor": 2
}
