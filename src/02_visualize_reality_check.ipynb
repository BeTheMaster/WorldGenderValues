{
 "cells": [
  {
   "cell_type": "markdown",
   "metadata": {},
   "source": [
    "02 Visualize reality check\n",
    "===\n",
    "Line chart one country all waves ~4 questions Female/Male + reality \n",
    "\n",
    "Note: the usp is, multiple questions at once (unlike violine) and good time-series representation (unlike radar) and reality added (unlike both former)\n",
    "\n",
    "(Optional:\n",
    "    coulor map when is which sex the better/worse predictor  (siehe anteil grün produzierter Strom am Verbrauch)\n",
    "    lr forcast future/missing values\n",
    "    lr to evaluate most predictive questions for reality/country/sex\n",
    ")"
   ]
  },
  {
   "cell_type": "code",
   "execution_count": null,
   "metadata": {},
   "outputs": [],
   "source": [
    "#TODO: load both cleaned data sources\n",
    "#TODO: plot wvs, plot reality into one"
   ]
  }
 ],
 "metadata": {
  "kernelspec": {
   "display_name": "Python 3",
   "language": "python",
   "name": "python3"
  },
  "language_info": {
   "name": "python",
   "version": "3.11.5"
  }
 },
 "nbformat": 4,
 "nbformat_minor": 2
}
