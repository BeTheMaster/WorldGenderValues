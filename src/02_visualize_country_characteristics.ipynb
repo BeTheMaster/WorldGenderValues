{
 "cells": [
  {
   "cell_type": "markdown",
   "metadata": {},
   "source": [
    "02 Visualize country characteristics\n",
    "===\n",
    "Visualizes the chatacteristic values of the observed countries using radar charts. On the y-axis are always the gender questions.\n",
    "For the x dimension there are three diffrent focuses to plot.\n",
    "1. One countrie, all waves\n",
    "2. One countrie, one wave, but Female and Male seperatly\n",
    "3. All countries one wave\n",
    "In the end these subplots are combined into one overview\n",
    "\n",
    "\n",
    "# Refrences\n",
    "#TODO: Woher habt ihr den Code"
   ]
  },
  {
   "cell_type": "code",
   "execution_count": null,
   "metadata": {},
   "outputs": [],
   "source": [
    "#TODO: Add data preperation loop & make it dynamic"
   ]
  },
  {
   "cell_type": "code",
   "execution_count": null,
   "metadata": {},
   "outputs": [],
   "source": [
    "#TODO: Add radar chart code"
   ]
  },
  {
   "cell_type": "code",
   "execution_count": null,
   "metadata": {},
   "outputs": [],
   "source": [
    "#TODO: Write radar chart for all countries in one"
   ]
  },
  {
   "cell_type": "code",
   "execution_count": null,
   "metadata": {},
   "outputs": [],
   "source": [
    "#TODO: Combine all kinds of plot into one beautifull figure"
   ]
  }
 ],
 "metadata": {
  "kernelspec": {
   "display_name": "Python 3",
   "language": "python",
   "name": "python3"
  },
  "language_info": {
   "name": "python",
   "version": "3.11.5"
  }
 },
 "nbformat": 4,
 "nbformat_minor": 2
}
