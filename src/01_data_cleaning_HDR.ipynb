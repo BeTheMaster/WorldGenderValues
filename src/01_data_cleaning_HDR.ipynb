{
 "cells": [
  {
   "cell_type": "markdown",
   "metadata": {},
   "source": [
    "01 Data cleaning: HDR\n",
    "===\n",
    "\n",
    "HDR calculates xx since 9999 by combining xx. That suits to our questions xx giving as an unique possibility for a reality check later on.\n",
    "However, the data exists in 99 seperat files and some of them doesn't have a proper table format.\n",
    "Here we combine all of them into one easy usable csv-file.  \n",
    "\n",
    "\n",
    "# References\n",
    "UNDP (United Nations Development Programme). 2021. 2021 Global Multidimensional Poverty Index (MPI): Unmasking disparities by ethnicity, caste and gender. New York."
   ]
  },
  {
   "cell_type": "code",
   "execution_count": null,
   "metadata": {},
   "outputs": [],
   "source": [
    "#TODO: find all files\n",
    "#(TODO: Read GII over the years)\n",
    "#TODO: read seperate files into one df (open loop, herausfinden welche celle Land, welche kennzahl politic/uni/job)"
   ]
  }
 ],
 "metadata": {
  "kernelspec": {
   "display_name": "Python 3",
   "language": "python",
   "name": "python3"
  },
  "language_info": {
   "name": "python",
   "version": "3.11.5"
  }
 },
 "nbformat": 4,
 "nbformat_minor": 2
}
