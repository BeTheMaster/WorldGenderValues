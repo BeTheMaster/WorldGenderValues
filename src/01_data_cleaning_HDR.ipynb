{
 "cells": [
  {
   "cell_type": "markdown",
   "metadata": {},
   "source": [
    "01 Data cleaning: HDR\n",
    "===\n",
    "\n",
    "HDR calculates xx since 9999 by combining xx. That suits to our questions xx giving as an unique possibility for a reality check later on.\n",
    "However, the data exists in 99 seperat files and some of them doesn't have a proper table format.\n",
    "Here we combine all of them into one easy usable csv-file.  \n",
    "\n",
    "# Download\n",
    "We need to call the api from https://hdr.undp.org/data-center/documentation-and-downloads\n",
    "\n",
    "# References\n",
    "UNDP (United Nations Development Programme). 2021. 2021 Global Multidimensional Poverty Index (MPI): Unmasking disparities by ethnicity, caste and gender. New York."
   ]
  },
  {
   "cell_type": "code",
   "execution_count": 6,
   "metadata": {},
   "outputs": [
    {
     "data": {
      "text/plain": [
       "'[{\"country\":\"AFG - Afghanistan\",\"index\":\"GII - Gender Inequality Index\",\"indicator\":\"abr - Adolescent Birth Rate (births per 1,000 women ages 15-19)\",\"year\":\"2021\",\"value\":\"82.565\"},{\"country\":\"AFG - Afghanistan\",\"index\":\"PHDI - Planetary pressures–adjusted Human Development Index\",\"indicator\":\"co2_prod - Carbon dioxide emissions per capita (production) (tonnes)\",\"year\":\"2021\",\"value\":\"0.312376488\"},{\"country\":\"AFG - Afghanistan\",\"index\":\"PHDI - Planetary pressures–adjusted Human Development Index\",\"indicator\":\"diff_hdi_phdi - Difference from HDI value (%)\",\"year\":\"2021\",\"value\":\"0.836820084\"},{\"country\":\"AFG - Afghanistan\",\"index\":\"HDI - Human Development Index\",\"indicator\":\"eys - Expected Years of Schooling (years)\",\"year\":\"2021\",\"value\":\"10.26384398\"},{\"country\":\"AFG - Afghanistan\",\"index\":\"GDI - Gender Development Index\",\"indicator\":\"eys_f - Expected Years of Schooling, female (years)\",\"year\":\"2021\",\"value\":\"7.736391273\"},{\"country\":\"AFG - Afghanistan\",\"index\":\"GDI - Gender Development Index\",\"indicator\":\"eys_m - Expected Years of Schooling, male (years)\",\"year\":\"2021\",\"value\":\"12.67218933\"},{\"country\":\"AFG - Afghanistan\",\"index\":\"GDI - Gender Development Index\",\"indicator\":\"gdi - Gender Development Index (value)\",\"year\":\"2021\",\"value\":\"0.681\"},{\"country\":\"AFG - Afghanistan\",\"index\":\"GDI - Gender Development Index\",\"indicator\":\"gdi_group - GDI Group\",\"year\":\"2021\",\"value\":\"5\"},{\"country\":\"AFG - Afghanistan\",\"index\":\"GII - Gender Inequality Index\",\"indicator\":\"gii - Gender Inequality Index (value)\",\"year\":\"2021\",\"value\":\"0.678\"},{\"country\":\"AFG - Afghanistan\",\"index\":\"GII - Gender Inequality Index\",\"indicator\":\"gii_rank - GII Rank\",\"year\":\"2021\",\"value\":\"167\"},{\"country\":\"AFG - Afghanistan\",\"index\":\"GDI - Gender Development Index\",\"indicator\":\"gni_pc_f - Gross National Income Per Capita, female (2017 PPP$)\",\"year\":\"2021\",\"value\":\"532.9553682\"},{\"country\":\"AFG - Afghanistan\",\"index\":\"GDI - Gender Development Index\",\"indicator\":\"gni_pc_m - Gross National Income Per Capita, male (2017 PPP$)\",\"year\":\"2021\",\"value\":\"3089.270418\"},{\"country\":\"AFG - Afghanistan\",\"index\":\"HDI - Human Development Index\",\"indicator\":\"gnipc - Gross National Income Per Capita (2017 PPP$)\",\"year\":\"2021\",\"value\":\"1824.190915\"},{\"country\":\"AFG - Afghanistan\",\"index\":\"HDI - Human Development Index\",\"indicator\":\"hdi - Human Development Index (value)\",\"year\":\"2021\",\"value\":\"0.478\"},{\"country\":\"AFG - Afghanistan\",\"index\":\"GDI - Gender Development Index\",\"indicator\":\"hdi_f - HDI female\",\"year\":\"2021\",\"value\":\"0.36484023\"},{\"country\":\"AFG - Afghanistan\",\"index\":\"GDI - Gender Development Index\",\"indicator\":\"hdi_m - HDI male\",\"year\":\"2021\",\"value\":\"0.535610873\"},{\"country\":\"AFG - Afghanistan\",\"index\":\"HDI - Human Development Index\",\"indicator\":\"hdi_rank - HDI Rank\",\"year\":\"2021\",\"value\":\"180\"},{\"country\":\"AFG - Afghanistan\",\"index\":\"IHDI - Inequality-adjusted Human Development Index\",\"indicator\":\"ineq_edu - Inequality in eduation\",\"year\":\"2021\",\"value\":\"45.36517\"},{\"country\":\"AFG - Afghanistan\",\"index\":\"IHDI - Inequality-adjusted Human Development Index\",\"indicator\":\"ineq_le - Inequality in life expectancy\",\"year\":\"2021\",\"value\":\"26.16536713\"},{\"country\":\"AFG - Afghanistan\",\"index\":\"HDI - Human Development Index\",\"indicator\":\"le - Life Expectancy at Birth (years)\",\"year\":\"2021\",\"value\":\"61.9824\"},{\"country\":\"AFG - Afghanistan\",\"index\":\"GDI - Gender Development Index\",\"indicator\":\"le_f - Life Expectancy at Birth, female (years)\",\"year\":\"2021\",\"value\":\"65.2791\"},{\"country\":\"AFG - Afghanistan\",\"index\":\"GDI - Gender Development Index\",\"indicator\":\"le_m - Life Expectancy at Birth, male (years)\",\"year\":\"2021\",\"value\":\"58.9147\"},{\"country\":\"AFG - Afghanistan\",\"index\":\"GII - Gender Inequality Index\",\"indicator\":\"lfpr_f - Labour force participation rate, female (% ages 15 and older)\",\"year\":\"2021\",\"value\":\"14.848\"},{\"country\":\"AFG - Afghanistan\",\"index\":\"GII - Gender Inequality Index\",\"indicator\":\"lfpr_m - Labour force participation rate, male (% ages 15 and older)\",\"year\":\"2021\",\"value\":\"66.515\"},{\"country\":\"AFG - Afghanistan\",\"index\":\"PHDI - Planetary pressures–adjusted Human Development Index\",\"indicator\":\"mf - Material footprint per capita (tonnes)\",\"year\":\"2021\",\"value\":\"1.38\"},{\"country\":\"AFG - Afghanistan\",\"index\":\"GII - Gender Inequality Index\",\"indicator\":\"mmr - Maternal Mortality Ratio (deaths per 100,000 live births)\",\"year\":\"2021\",\"value\":\"638\"},{\"country\":\"AFG - Afghanistan\",\"index\":\"HDI - Human Development Index\",\"indicator\":\"mys - Mean Years of Schooling (years)\",\"year\":\"2021\",\"value\":\"2.98506999\"},{\"country\":\"AFG - Afghanistan\",\"index\":\"GDI - Gender Development Index\",\"indicator\":\"mys_f - Mean Years of Schooling, female (years)\",\"year\":\"2021\",\"value\":\"2.311079979\"},{\"country\":\"AFG - Afghanistan\",\"index\":\"GDI - Gender Development Index\",\"indicator\":\"mys_m - Mean Years of Schooling, male (years)\",\"year\":\"2021\",\"value\":\"3.401309967\"},{\"country\":\"AFG - Afghanistan\",\"index\":\"PHDI - Planetary pressures–adjusted Human Development Index\",\"indicator\":\"phdi - Planetary pressures–adjusted Human Development Index (value)\",\"year\":\"2021\",\"value\":\"0.474\"},{\"country\":\"AFG - Afghanistan\",\"index\":\"GII - Gender Inequality Index\",\"indicator\":\"pr_f - Share of seats in parliament, female (% held by women)\",\"year\":\"2021\",\"value\":\"27.21518987\"},{\"country\":\"AFG - Afghanistan\",\"index\":\"GII - Gender Inequality Index\",\"indicator\":\"pr_m - Share of seats in parliament, male (% held by men)\",\"year\":\"2021\",\"value\":\"72.78481013\"},{\"country\":\"AFG - Afghanistan\",\"index\":\"PHDI - Planetary pressures–adjusted Human Development Index\",\"indicator\":\"rankdiff_hdi_phdi - Difference from HDI rank\",\"year\":\"2021\",\"value\":\"5\"},{\"country\":\"AFG - Afghanistan\",\"index\":\"GII - Gender Inequality Index\",\"indicator\":\"se_f - Population with at least some secondary education, female (% ages 25 and older)\",\"year\":\"2021\",\"value\":\"6.395730019\"},{\"country\":\"AFG - Afghanistan\",\"index\":\"GII - Gender Inequality Index\",\"indicator\":\"se_m - Population with at least some secondary education, male (% ages 25 and older)\",\"year\":\"2021\",\"value\":\"14.86571026\"}]'"
      ]
     },
     "execution_count": 6,
     "metadata": {},
     "output_type": "execute_result"
    }
   ],
   "source": [
    "#bb trys stuff\n",
    "import requests\n",
    "\n",
    "years = []\n",
    "countryCodes =[]\n",
    "\n",
    "for idCode, code in enumerate(countryCodes):\n",
    "    for idYear, year in enumerate(years):\n",
    "        api = 'https://api.hdrdata.org/CountryIndicators/'+code+'/'+year\n",
    "        r = requests.get(api, auth=('user', 'pass'))\n",
    "        #r.status_code\n",
    "        #r.headers['content-type']\n",
    "        #r.encoding\n",
    "        #r.text\n",
    "        r.json()"
   ]
  },
  {
   "cell_type": "code",
   "execution_count": null,
   "metadata": {},
   "outputs": [],
   "source": [
    "#TODO: find all files - call the api and interprete it\n",
    "#(TODO: Read GII over the years)\n",
    "#TODO: read seperate files into one df (open loop, herausfinden welche celle Land, welche kennzahl politic/uni/job)"
   ]
  }
 ],
 "metadata": {
  "kernelspec": {
   "display_name": "Python 3",
   "language": "python",
   "name": "python3"
  },
  "language_info": {
   "codemirror_mode": {
    "name": "ipython",
    "version": 3
   },
   "file_extension": ".py",
   "mimetype": "text/x-python",
   "name": "python",
   "nbconvert_exporter": "python",
   "pygments_lexer": "ipython3",
   "version": "3.11.5"
  }
 },
 "nbformat": 4,
 "nbformat_minor": 2
}
